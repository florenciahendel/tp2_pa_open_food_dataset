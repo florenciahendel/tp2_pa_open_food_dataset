{
 "cells": [
  {
   "cell_type": "markdown",
   "id": "9232852f",
   "metadata": {},
   "source": [
    "## Imports y conexión a la DB"
   ]
  },
  {
   "cell_type": "code",
   "execution_count": 31,
   "id": "76c79af4",
   "metadata": {},
   "outputs": [
    {
     "name": "stdout",
     "output_type": "stream",
     "text": [
      "Conectando a MongoDB: mongodb://localhost:27017\n",
      "DB: foodfacts_db Colección: products\n"
     ]
    }
   ],
   "source": [
    "import os\n",
    "from pymongo import MongoClient\n",
    "import pandas as pd\n",
    "import plotly.express as px\n",
    "\n",
    "MONGO_URI = os.getenv(\"MONGO_URI\", \"mongodb://localhost:27017\")\n",
    "DB_NAME = os.getenv(\"MONGO_DB\")\n",
    "COLL_NAME = os.getenv(\"MONGO_COLLECTION\")\n",
    "\n",
    "client = MongoClient(MONGO_URI)\n",
    "db = client[\"foodfacts_db\"]\n",
    "col = db[\"products\"]\n",
    "#Para asegurarnos de que la conexión fue exitosa\n",
    "print(\"Conectando a MongoDB:\", MONGO_URI)\n",
    "print(\"DB:\", DB_NAME, \"Colección:\", COLL_NAME)"
   ]
  },
  {
   "cell_type": "markdown",
   "id": "bfc19621",
   "metadata": {},
   "source": [
    "## Distribución Nutri-Score"
   ]
  },
  {
   "cell_type": "code",
   "execution_count": 32,
   "id": "c4c6da7c",
   "metadata": {},
   "outputs": [
    {
     "data": {
      "application/vnd.plotly.v1+json": {
       "config": {
        "plotlyServerURL": "https://plot.ly"
       },
       "data": [
        {
         "domain": {
          "x": [
           0,
           1
          ],
          "y": [
           0,
           1
          ]
         },
         "hovertemplate": "nutriscore=%{label}<br>count=%{value}<extra></extra>",
         "labels": [
          "a",
          "b",
          "c",
          "d",
          "e",
          "not-applicable",
          "unknown"
         ],
         "legendgroup": "",
         "name": "",
         "showlegend": true,
         "type": "pie",
         "values": {
          "bdata": "QycyI04HFg==",
          "dtype": "i1"
         }
        }
       ],
       "layout": {
        "legend": {
         "tracegroupgap": 0
        },
        "template": {
         "data": {
          "bar": [
           {
            "error_x": {
             "color": "#2a3f5f"
            },
            "error_y": {
             "color": "#2a3f5f"
            },
            "marker": {
             "line": {
              "color": "#E5ECF6",
              "width": 0.5
             },
             "pattern": {
              "fillmode": "overlay",
              "size": 10,
              "solidity": 0.2
             }
            },
            "type": "bar"
           }
          ],
          "barpolar": [
           {
            "marker": {
             "line": {
              "color": "#E5ECF6",
              "width": 0.5
             },
             "pattern": {
              "fillmode": "overlay",
              "size": 10,
              "solidity": 0.2
             }
            },
            "type": "barpolar"
           }
          ],
          "carpet": [
           {
            "aaxis": {
             "endlinecolor": "#2a3f5f",
             "gridcolor": "white",
             "linecolor": "white",
             "minorgridcolor": "white",
             "startlinecolor": "#2a3f5f"
            },
            "baxis": {
             "endlinecolor": "#2a3f5f",
             "gridcolor": "white",
             "linecolor": "white",
             "minorgridcolor": "white",
             "startlinecolor": "#2a3f5f"
            },
            "type": "carpet"
           }
          ],
          "choropleth": [
           {
            "colorbar": {
             "outlinewidth": 0,
             "ticks": ""
            },
            "type": "choropleth"
           }
          ],
          "contour": [
           {
            "colorbar": {
             "outlinewidth": 0,
             "ticks": ""
            },
            "colorscale": [
             [
              0,
              "#0d0887"
             ],
             [
              0.1111111111111111,
              "#46039f"
             ],
             [
              0.2222222222222222,
              "#7201a8"
             ],
             [
              0.3333333333333333,
              "#9c179e"
             ],
             [
              0.4444444444444444,
              "#bd3786"
             ],
             [
              0.5555555555555556,
              "#d8576b"
             ],
             [
              0.6666666666666666,
              "#ed7953"
             ],
             [
              0.7777777777777778,
              "#fb9f3a"
             ],
             [
              0.8888888888888888,
              "#fdca26"
             ],
             [
              1,
              "#f0f921"
             ]
            ],
            "type": "contour"
           }
          ],
          "contourcarpet": [
           {
            "colorbar": {
             "outlinewidth": 0,
             "ticks": ""
            },
            "type": "contourcarpet"
           }
          ],
          "heatmap": [
           {
            "colorbar": {
             "outlinewidth": 0,
             "ticks": ""
            },
            "colorscale": [
             [
              0,
              "#0d0887"
             ],
             [
              0.1111111111111111,
              "#46039f"
             ],
             [
              0.2222222222222222,
              "#7201a8"
             ],
             [
              0.3333333333333333,
              "#9c179e"
             ],
             [
              0.4444444444444444,
              "#bd3786"
             ],
             [
              0.5555555555555556,
              "#d8576b"
             ],
             [
              0.6666666666666666,
              "#ed7953"
             ],
             [
              0.7777777777777778,
              "#fb9f3a"
             ],
             [
              0.8888888888888888,
              "#fdca26"
             ],
             [
              1,
              "#f0f921"
             ]
            ],
            "type": "heatmap"
           }
          ],
          "histogram": [
           {
            "marker": {
             "pattern": {
              "fillmode": "overlay",
              "size": 10,
              "solidity": 0.2
             }
            },
            "type": "histogram"
           }
          ],
          "histogram2d": [
           {
            "colorbar": {
             "outlinewidth": 0,
             "ticks": ""
            },
            "colorscale": [
             [
              0,
              "#0d0887"
             ],
             [
              0.1111111111111111,
              "#46039f"
             ],
             [
              0.2222222222222222,
              "#7201a8"
             ],
             [
              0.3333333333333333,
              "#9c179e"
             ],
             [
              0.4444444444444444,
              "#bd3786"
             ],
             [
              0.5555555555555556,
              "#d8576b"
             ],
             [
              0.6666666666666666,
              "#ed7953"
             ],
             [
              0.7777777777777778,
              "#fb9f3a"
             ],
             [
              0.8888888888888888,
              "#fdca26"
             ],
             [
              1,
              "#f0f921"
             ]
            ],
            "type": "histogram2d"
           }
          ],
          "histogram2dcontour": [
           {
            "colorbar": {
             "outlinewidth": 0,
             "ticks": ""
            },
            "colorscale": [
             [
              0,
              "#0d0887"
             ],
             [
              0.1111111111111111,
              "#46039f"
             ],
             [
              0.2222222222222222,
              "#7201a8"
             ],
             [
              0.3333333333333333,
              "#9c179e"
             ],
             [
              0.4444444444444444,
              "#bd3786"
             ],
             [
              0.5555555555555556,
              "#d8576b"
             ],
             [
              0.6666666666666666,
              "#ed7953"
             ],
             [
              0.7777777777777778,
              "#fb9f3a"
             ],
             [
              0.8888888888888888,
              "#fdca26"
             ],
             [
              1,
              "#f0f921"
             ]
            ],
            "type": "histogram2dcontour"
           }
          ],
          "mesh3d": [
           {
            "colorbar": {
             "outlinewidth": 0,
             "ticks": ""
            },
            "type": "mesh3d"
           }
          ],
          "parcoords": [
           {
            "line": {
             "colorbar": {
              "outlinewidth": 0,
              "ticks": ""
             }
            },
            "type": "parcoords"
           }
          ],
          "pie": [
           {
            "automargin": true,
            "type": "pie"
           }
          ],
          "scatter": [
           {
            "fillpattern": {
             "fillmode": "overlay",
             "size": 10,
             "solidity": 0.2
            },
            "type": "scatter"
           }
          ],
          "scatter3d": [
           {
            "line": {
             "colorbar": {
              "outlinewidth": 0,
              "ticks": ""
             }
            },
            "marker": {
             "colorbar": {
              "outlinewidth": 0,
              "ticks": ""
             }
            },
            "type": "scatter3d"
           }
          ],
          "scattercarpet": [
           {
            "marker": {
             "colorbar": {
              "outlinewidth": 0,
              "ticks": ""
             }
            },
            "type": "scattercarpet"
           }
          ],
          "scattergeo": [
           {
            "marker": {
             "colorbar": {
              "outlinewidth": 0,
              "ticks": ""
             }
            },
            "type": "scattergeo"
           }
          ],
          "scattergl": [
           {
            "marker": {
             "colorbar": {
              "outlinewidth": 0,
              "ticks": ""
             }
            },
            "type": "scattergl"
           }
          ],
          "scattermap": [
           {
            "marker": {
             "colorbar": {
              "outlinewidth": 0,
              "ticks": ""
             }
            },
            "type": "scattermap"
           }
          ],
          "scattermapbox": [
           {
            "marker": {
             "colorbar": {
              "outlinewidth": 0,
              "ticks": ""
             }
            },
            "type": "scattermapbox"
           }
          ],
          "scatterpolar": [
           {
            "marker": {
             "colorbar": {
              "outlinewidth": 0,
              "ticks": ""
             }
            },
            "type": "scatterpolar"
           }
          ],
          "scatterpolargl": [
           {
            "marker": {
             "colorbar": {
              "outlinewidth": 0,
              "ticks": ""
             }
            },
            "type": "scatterpolargl"
           }
          ],
          "scatterternary": [
           {
            "marker": {
             "colorbar": {
              "outlinewidth": 0,
              "ticks": ""
             }
            },
            "type": "scatterternary"
           }
          ],
          "surface": [
           {
            "colorbar": {
             "outlinewidth": 0,
             "ticks": ""
            },
            "colorscale": [
             [
              0,
              "#0d0887"
             ],
             [
              0.1111111111111111,
              "#46039f"
             ],
             [
              0.2222222222222222,
              "#7201a8"
             ],
             [
              0.3333333333333333,
              "#9c179e"
             ],
             [
              0.4444444444444444,
              "#bd3786"
             ],
             [
              0.5555555555555556,
              "#d8576b"
             ],
             [
              0.6666666666666666,
              "#ed7953"
             ],
             [
              0.7777777777777778,
              "#fb9f3a"
             ],
             [
              0.8888888888888888,
              "#fdca26"
             ],
             [
              1,
              "#f0f921"
             ]
            ],
            "type": "surface"
           }
          ],
          "table": [
           {
            "cells": {
             "fill": {
              "color": "#EBF0F8"
             },
             "line": {
              "color": "white"
             }
            },
            "header": {
             "fill": {
              "color": "#C8D4E3"
             },
             "line": {
              "color": "white"
             }
            },
            "type": "table"
           }
          ]
         },
         "layout": {
          "annotationdefaults": {
           "arrowcolor": "#2a3f5f",
           "arrowhead": 0,
           "arrowwidth": 1
          },
          "autotypenumbers": "strict",
          "coloraxis": {
           "colorbar": {
            "outlinewidth": 0,
            "ticks": ""
           }
          },
          "colorscale": {
           "diverging": [
            [
             0,
             "#8e0152"
            ],
            [
             0.1,
             "#c51b7d"
            ],
            [
             0.2,
             "#de77ae"
            ],
            [
             0.3,
             "#f1b6da"
            ],
            [
             0.4,
             "#fde0ef"
            ],
            [
             0.5,
             "#f7f7f7"
            ],
            [
             0.6,
             "#e6f5d0"
            ],
            [
             0.7,
             "#b8e186"
            ],
            [
             0.8,
             "#7fbc41"
            ],
            [
             0.9,
             "#4d9221"
            ],
            [
             1,
             "#276419"
            ]
           ],
           "sequential": [
            [
             0,
             "#0d0887"
            ],
            [
             0.1111111111111111,
             "#46039f"
            ],
            [
             0.2222222222222222,
             "#7201a8"
            ],
            [
             0.3333333333333333,
             "#9c179e"
            ],
            [
             0.4444444444444444,
             "#bd3786"
            ],
            [
             0.5555555555555556,
             "#d8576b"
            ],
            [
             0.6666666666666666,
             "#ed7953"
            ],
            [
             0.7777777777777778,
             "#fb9f3a"
            ],
            [
             0.8888888888888888,
             "#fdca26"
            ],
            [
             1,
             "#f0f921"
            ]
           ],
           "sequentialminus": [
            [
             0,
             "#0d0887"
            ],
            [
             0.1111111111111111,
             "#46039f"
            ],
            [
             0.2222222222222222,
             "#7201a8"
            ],
            [
             0.3333333333333333,
             "#9c179e"
            ],
            [
             0.4444444444444444,
             "#bd3786"
            ],
            [
             0.5555555555555556,
             "#d8576b"
            ],
            [
             0.6666666666666666,
             "#ed7953"
            ],
            [
             0.7777777777777778,
             "#fb9f3a"
            ],
            [
             0.8888888888888888,
             "#fdca26"
            ],
            [
             1,
             "#f0f921"
            ]
           ]
          },
          "colorway": [
           "#636efa",
           "#EF553B",
           "#00cc96",
           "#ab63fa",
           "#FFA15A",
           "#19d3f3",
           "#FF6692",
           "#B6E880",
           "#FF97FF",
           "#FECB52"
          ],
          "font": {
           "color": "#2a3f5f"
          },
          "geo": {
           "bgcolor": "white",
           "lakecolor": "white",
           "landcolor": "#E5ECF6",
           "showlakes": true,
           "showland": true,
           "subunitcolor": "white"
          },
          "hoverlabel": {
           "align": "left"
          },
          "hovermode": "closest",
          "mapbox": {
           "style": "light"
          },
          "paper_bgcolor": "white",
          "plot_bgcolor": "#E5ECF6",
          "polar": {
           "angularaxis": {
            "gridcolor": "white",
            "linecolor": "white",
            "ticks": ""
           },
           "bgcolor": "#E5ECF6",
           "radialaxis": {
            "gridcolor": "white",
            "linecolor": "white",
            "ticks": ""
           }
          },
          "scene": {
           "xaxis": {
            "backgroundcolor": "#E5ECF6",
            "gridcolor": "white",
            "gridwidth": 2,
            "linecolor": "white",
            "showbackground": true,
            "ticks": "",
            "zerolinecolor": "white"
           },
           "yaxis": {
            "backgroundcolor": "#E5ECF6",
            "gridcolor": "white",
            "gridwidth": 2,
            "linecolor": "white",
            "showbackground": true,
            "ticks": "",
            "zerolinecolor": "white"
           },
           "zaxis": {
            "backgroundcolor": "#E5ECF6",
            "gridcolor": "white",
            "gridwidth": 2,
            "linecolor": "white",
            "showbackground": true,
            "ticks": "",
            "zerolinecolor": "white"
           }
          },
          "shapedefaults": {
           "line": {
            "color": "#2a3f5f"
           }
          },
          "ternary": {
           "aaxis": {
            "gridcolor": "white",
            "linecolor": "white",
            "ticks": ""
           },
           "baxis": {
            "gridcolor": "white",
            "linecolor": "white",
            "ticks": ""
           },
           "bgcolor": "#E5ECF6",
           "caxis": {
            "gridcolor": "white",
            "linecolor": "white",
            "ticks": ""
           }
          },
          "title": {
           "x": 0.05
          },
          "xaxis": {
           "automargin": true,
           "gridcolor": "white",
           "linecolor": "white",
           "ticks": "",
           "title": {
            "standoff": 15
           },
           "zerolinecolor": "white",
           "zerolinewidth": 2
          },
          "yaxis": {
           "automargin": true,
           "gridcolor": "white",
           "linecolor": "white",
           "ticks": "",
           "title": {
            "standoff": 15
           },
           "zerolinecolor": "white",
           "zerolinewidth": 2
          }
         }
        },
        "title": {
         "text": "Distribución Nutri-Score"
        }
       }
      }
     },
     "metadata": {},
     "output_type": "display_data"
    }
   ],
   "source": [
    "pipeline = [\n",
    "    {\"$match\": {\"nutriscore_grade\": {\"$exists\": True, \"$ne\": None}}},\n",
    "    {\"$group\": {\"_id\": \"$nutriscore_grade\", \"count\": {\"$sum\": 1}}},\n",
    "    {\"$sort\": {\"_id\": 1}}\n",
    "]\n",
    "res = list(col.aggregate(pipeline))\n",
    "df_ns = pd.DataFrame(res)\n",
    "df_ns[\"nutriscore\"] = df_ns[\"_id\"]\n",
    "fig = px.pie(df_ns, names=\"nutriscore\", values=\"count\", title=\"Distribución Nutri-Score\")\n",
    "fig.show()\n"
   ]
  },
  {
   "cell_type": "markdown",
   "id": "d3c7ae6f",
   "metadata": {},
   "source": [
    "## Calorías vs Azúcar (Scatter)"
   ]
  },
  {
   "cell_type": "code",
   "execution_count": 33,
   "id": "09f11613",
   "metadata": {},
   "outputs": [
    {
     "data": {
      "application/vnd.plotly.v1+json": {
       "config": {
        "plotlyServerURL": "https://plot.ly"
       },
       "data": [
        {
         "hovertemplate": "<b>%{hovertext}</b><br><br>nutriments.energy_kcal_100g=%{x}<br>nutriments.sugars_100g=%{y}<extra></extra>",
         "hovertext": [
          "Sidi Ali",
          "اكوافينا",
          "Lait",
          "Eau De Source",
          "Fromage blanc nature",
          "uht jaouda 1L",
          "Jben",
          "Ain Saïss",
          "Eau minéral naturelle",
          "6111035000027",
          "Marmite Yeast Extract",
          "perly",
          "Lait Frais",
          "Margarine de table",
          "اكوافينا",
          "Prince Goût Chocolat",
          "Lindt Excellence 90%",
          "Nutella",
          "Orange juice",
          "Tonik",
          "levure pâtisserie",
          "Ain Saiss Eau Minerale Naturelle",
          "Sésame",
          "Confiture de fraise",
          "Yaourt nature",
          "Ain Atlas",
          "Mayonnaise recette originale",
          "Sourdough White Ciabattin Bread",
          "coca cola 0,5",
          "Chocolat noir - 85% cacao",
          "Nutella",
          "The Great White Sourdough",
          "Sourdough Grains & Seeds",
          "Cheddar",
          "Mandeln",
          "Ketchup star 310 g",
          "Cosumar Sucre En Lingot Pour Le Thé 1 kg",
          "Cashewkerne",
          "",
          "Henry’s",
          "Assil",
          "Coca-Cola",
          "Cremy",
          "",
          "Ciel",
          "Ciel 33cl",
          "Maruja",
          "ain saiss 50cl",
          "Cream cheese",
          "Spreadable Slightly Salted",
          "Bahia 5l",
          "Oulmes Eau Gazeuse",
          "Organic 70% Dark Chocolate Bar",
          "jibal jben",
          "KING COOKIES",
          "Jamila رايبي",
          "Eau",
          "Aquafina 50cl",
          "sauce tomate cuisinée",
          "Coke Zero",
          "Sable coco Henry s 42g",
          "Geröstete Mandel Ohne Zucker",
          "Aïn Atlas 50cl",
          "Gemengde noten",
          "Oat Drink Barista Edition",
          "margarine la prairie 225g",
          "Cerneaux de Noix",
          "Biscuits croquants au coeur onctueux de Nutella®",
          "Tartine croustillante Authentique",
          "Excellence Noir Intense 70% Cacao",
          "Familia 200g",
          "Star vinaigre de table BLANC",
          "",
          "Nocciolata",
          "Pâte à tartiner noisettes et cacao",
          "Weetabix",
          "Lightly sea salted crisps",
          "Dark chocolate",
          "Eau Minérale Naturelle",
          "Filets de maquereau",
          "Excellence Noir Puissant 85% Cacao",
          "Tartine Doux",
          "611251753912",
          "Aïn Soltane",
          "Filets De Maquereaux",
          "Fourrés Chocolat Noir",
          "Confiture De Fraises 430 G",
          "NOIR INTENSE 74% CACAO",
          "Star Mayonaise",
          "Pur beurre de cacahuète",
          "Hawai Tropical",
          "Lait Entier UHT",
          "Organic Lightly Salted Wholegrain Low Fat Rice Cakes",
          "Skyr nature 0%",
          "Mayonnaise",
          "Green Tea",
          "Pain de mie grandes tranches Seigle & Graines 500g",
          null,
          "JASON'S SOURDOUGH 07 SUPERB SPROUTED GRAINS",
          "Nocciolata bio",
          "FIBRES",
          "Krisprolls complets sans sucres ajoutés",
          "14 Maxi Tranches complet sans sucres ajoutés",
          "Henry’s",
          "Confiture d'abricot",
          "PESTO alla GENOVESE",
          "cruesly mélange de noix",
          "Momo black",
          "",
          "poulain",
          "Tomato Ketchup",
          "Hafer Milch",
          "Original",
          "Idéal",
          "Nutella",
          "Merendino",
          "DANONE ASSIL BANANE",
          "مارغرين المائدة",
          "1848 Chocolat en poudre",
          "El Baraka Confiture D'abricots 430 G",
          "Jebli",
          "S. Pellegrino Water",
          "Excellence 70% Cocoa Intense Dark",
          "nutella",
          "Original Taste",
          "Primevère bio doux tartine & cuisson",
          "Vegan Bouillon powder",
          "raibi jaoda",
          "Eyoo cover",
          "Tendre nature",
          "La salvetat",
          "NATURAL YOGURT",
          "Yaourt Grec Muesli",
          "Dark Rye Crispbread",
          "Tartines craquantes au sarrasin imp",
          "Danino",
          "Coca-Cola Zéro",
          "Pipas",
          "Be Nuts ! - Pâte à tartiner Cacahuète",
          "Pomme 🍏 🍎 Noisette🥜",
          "Le Beurre Tendre Doux",
          "Family Pack",
          "LBEN CARTON PASTEURISER",
          "Aveia em flocos finos Lidl",
          "Organic Vegetable Stock Cubes",
          "Le bon lait",
          "4 Garlic & Herb Kebabs",
          "Trios",
          "Excellence 85% Cacao Rich Dark",
          "Le Lait demi écrémé",
          "Dark Chocolate 70%",
          "Flocons d'avoine",
          "Tofoo Naked",
          "Nutella",
          "Bahia, Eau De Table",
          "Lait Frais 15 jours",
          "Carré Frais",
          "La prairie classique",
          "Tomato Ketchup",
          "Pringles Original",
          "Crunchy oats & honey",
          "nutella",
          "Salim",
          "Ghilal Yaourt zr3",
          "Figue & son",
          "Levure de bière",
          "Croustillant Chocolat",
          "Coca-Cola Zero",
          "Wholegrain Rye Bread",
          "Pain De Mie Bio",
          "Bitter Extra Kraftig",
          "Seed Sensations",
          "Sardines Huile d'Olive Vierge Extra",
          "Coca-Cola",
          "Huile de table équilibrée riche en vitamines A,E,D3",
          "Nestlé Dessert",
          "Petit beurre",
          "Eau minérale naturelle",
          "Pains au lait x10",
          "Nutella",
          "Chocolat au lait",
          "Tomato Ketchup",
          "Moutarde 10.50 g",
          "Bakery Co. 5 The Original Bagels",
          "Coca Cola",
          "Yeo Valley Organic kefir natural fermented yogurt",
          "RICORE Original",
          "Brioche Tranchée Bio 400g",
          "Croissance réduit en sucre",
          "Beurre Frais Pasteurisé",
          "Philadelphia",
          "High Protein Chocolate Flavour Pudding",
          "Eau minérale naturelle gazeuse",
          "BEANZ In a rich tomato sauce",
          "Pulco Citron",
          "Tomato Ketchup",
          "Real Mayonnaise",
          "King cookies choco",
          "Granatapfel Sauerkirsche Fruchtgummi",
          "Vegetable Fat Spread with 10% Olive Oil",
          "Pesto Rosso",
          "Sirop d'Agave",
          "Bio Chocolat Noir Cacao 70%",
          "Fruit & Nut Mix",
          "Carré Frais - Nature",
          "Mayonnaise",
          "Peripella",
          "Yaourt tendre",
          "Vanille au soja",
          "Beurre bio cacahuète",
          "Weetabix produit à base de blé complet 100%",
          "5% Greek Yogurt",
          "Cappy pulpy",
          "36 Wheat Bisks",
          "Rye & Mixed Seed Sourdough Bread",
          "jibal",
          "Excellence Noir Subtil Doux 70% Cacao",
          "La gâche tranchée",
          "Bol Bol Ketchup",
          "Tranches Au Goût Cheddar",
          "st hubert bio & végétal",
          "Sour Cream & Onion",
          "Assaisonnement aromatisé au citron",
          "Muesli Raisin, Figue, Abricot",
          "Nesquik",
          "Arome MAGGI",
          "Levure rafiaa",
          "Menguy's Peanut 100%",
          "Tartines campagne 450g",
          "Nutella",
          "Muscly la force pour grandir",
          "Chocolat Noir 92% cacao",
          "pain de mie grandes tranches spécial sandwich complet",
          "Seeded Sourdough Bread",
          "Biscoff Creamy",
          "Granola L'Original",
          "PRESSup ORANGE 1L",
          "Concentré de tomates Aicha",
          "Olla",
          "Cracotte Céréales Complètes",
          "2 Bars Milk and Hazelnuts",
          "Special Muesli 30% fruits & noix",
          "Gold",
          "Runny Honey imp",
          "Ecuador dark chocolate",
          "Skyr | Natural Fat Free | 0% Fat",
          "Chips",
          "Pâte d'arachide",
          "Pringles Sare",
          "Flora Buttery",
          "wasa",
          "Greek Style Yogurt",
          "Henry's Sable Coco Biscuit 85G",
          "Ricoré original",
          "Cracotte",
          "Biscuit raisins",
          "Seriously Good Times Mayonnaise",
          "6111266962446",
          "Mayfine",
          "Nesquik Cocoa",
          "Nutri+ avoine chocolat",
          "Biscuits goût chocolat",
          "Everyday White Rolls",
          "Organic Chicken Stock Cubes 8 Pack",
          "Strawberry Jam",
          "Coeur de lait",
          "digestives",
          "Quaker Rolled Oats",
          "Mandelmilch mit Zucker",
          "Harrys brioche tressee nature au sucre perle sans additifs 500g",
          "Maille Moutarde Fine de Dijon L'Originale Bocal 360g",
          "Crunchy Peanut Butter",
          "Jibal",
          "Protein Cacahuetes🥜 & Chocolat🍫",
          "Tartines craquantes quinoa - pois chiche",
          "Brazil Nuts",
          "Paysan Breton - Le Fromage Fouetté Madame Loïk - Nature au Sel de Guérande",
          "Delicia double concentre de tomates"
         ],
         "legendgroup": "",
         "marker": {
          "color": "#636efa",
          "symbol": "circle"
         },
         "mode": "markers",
         "name": "",
         "orientation": "v",
         "showlegend": false,
         "type": "scatter",
         "x": {
          "bdata": "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",
          "dtype": "f8"
         },
         "xaxis": "x",
         "y": {
          "bdata": "ZmZmZmZm9j8AAAAAAAAAAAAAAAAAAAAAAAAAAAAAAAAAAAAAAAAAAAAAAAAAAAAAAAAAAAAAAAAAAAAAAAAAAAAAAAAAAAAAAAAAAAAAAAAzMzMzMzPzPwAAAAAAAAAAAAAAAAAAAAAAAAAAAAAAAAAAAAAAAAAAAAAAAAAAQECuR+F6FK4aQGZmZmZmJkxAAAAAAAAAMUAAAAAAAABEQAAAAAAAAAAAAAAAAAAAAAAAAAAAAAAxQAAAAAAAgE9AAAAAAAAAAAAAAAAAAAAAAJqZmZmZmak/ZmZmZmZm9j/NzMzMzMwlQAAAAAAAAChAZmZmZmYmTEBmZmZmZmb2P2ZmZmZmZvY/AAAAAAAAGEAzMzMzMzMTQFyPwvUoXDZAAAAAAAAAWUBmZmZmZmYWQGZmZmZmJkxAsb/snjw8OEAAAAAAAAAiQDMzMzMzMyVAAAAAAAAAAEBmZmZmZiZMQAAAAAAAAAAAAAAAAAAAAAAAAAAAAABJQAAAAAAAAAAAAAAAAAAAAAAzMzMzMzPjPwAAAAAAAAAAAAAAAAAAAAAAAAAAAAA9QAAAAAAAAAxAAAAAAAAAQEAAAAAAAAAiQAAAAAAAAAAAmpmZmZmZuT+amZmZmZkRQAAAAAAAAAAAzczMzMzMN0AAAAAAAAAAAAAAAAAAAAAAzczMzMzMEEAzMzMzMzMLQAAAAAAAAAAAzczMzMzM7D9mZmZmZuZBQAAAAAAAAPA/AAAAAAAAPkAAAAAAAAAAADMzMzMzM8M/zczMzMzMHEAAAAAAAIBJQAAAAAAAgElA16NwPQrXEEB7FK5H4XrkPwAAAAAAAAAAAAAAAAAAAAAzMzMzMzPjPwAAAAAAAC5AAAAAAAAAAABmZmZmZmYCQAAAAAAAAAAAexSuR+F6xD8AAAAAAAA7QAAAAAAAAE9AAAAAAAAAOkAAAAAAAAAAAGZmZmZmZhRAAAAAAAAAI0DNzMzMzMwQQAAAAAAAAAAAzczMzMzMDECamZmZmZmpP5qZmZmZmck/zczMzMzMEEAAAAAAAAAAAM3MzMzMzARAAAAAAACASUAAAAAAAAAAQJqZmZmZmfE/ZmZmZmZmDkAzMzMzMzM4QAAAAAAAAElAAAAAAAAAFEAAAAAAAAAoQAAAAAAAADtAAAAAAAAAMEAAAAAAAIBNQDMzMzMzszZAAAAAAAAAAABmZmZmZmYcQJqZmZmZWVZAZmZmZmYmTEAAAAAAAIBDQAAAAAAAACJAAAAAAAAAAAAAAAAAAIBOQAAAAAAAAElAAAAAAAAAAAAAAAAAAAAAAAAAAAAAAD5AZmZmZmYmTEAzMzMzMzMlQAAAAAAAAAAAAAAAAAAAEEAAAAAAAAArQAAAAAAAAAAAAAAAAAAAIkAAAAAAAAAAAJqZmZmZmRFAAAAAAAAAIkDhehSuR+EGQM3MzMzMzARAMzMzMzMzIUAAAAAAAAAAAGZmZmZmZvo/AAAAAAAALkAAAAAAAAAmQJqZmZmZmek/zczMzMzMEEAAAAAAAAAAAAAAAAAAAOg/MzMzMzMz0z8AAAAAAAAAAJqZmZmZmfk/AAAAAAAAS0AAAAAAAAAsQAAAAAAAAAAAMzMzMzMzO0AzMzMzMzP7P5qZmZmZmbk/AAAAAAAATEAAAAAAAAAAAAAAAAAAAAAAMzMzMzMzB0AAAAAAAAAAAM3MzMzMzDZAZmZmZmZm9j+amZmZmRk5QAAAAAAAAExAMzMzMzMzE0AAAAAAAAAeQAAAAAAAADBAMzMzMzMz8z8AAAAAAAAsQAAAAAAAAAAAcT0K16NwD0AzMzMzMzMZQJqZmZmZmck/4XoUrkfhDkAAAAAAAAAAADMzMzMzMyVAAAAAAAAAAAAzMzMzMzNHQJqZmZmZmS5AAAAAAAAAAAAAAAAAAAAmQGZmZmZmJkxAAAAAAACAS0DNzMzMzMw2QArXo3A9Cv8/mpmZmZmZEUAzMzMzMzMlQJqZmZmZmRVAMzMzMzMzIkAAAAAAAAAqQJqZmZmZmek/AAAAAAAA8D8zMzMzMzMRQAAAAAAAABBAAAAAAAAAAAAzMzMzMzMRQJqZmZmZmdk/zczMzMzMNkDNzMzMzMz0PzMzMzMzMz9AzczMzMzMJEAAAAAAAADgPzMzMzMzMx9AAAAAAABAXEAAAAAAAAA8QJqZmZmZ2UFAAAAAAAAABEDNzMzMzMz0PwAAAAAAAEpAzczMzMzMLUAAAAAAAAAjQDMzMzMzMxdAzczMzMzMEEAAAAAAAAAIQAAAAAAAABxA4XoUrkfhEUAzMzMzMzMDQAAAAAAAACRAAAAAAAAAPUAAAAAAAAAqQJqZmZmZmTlAAAAAAAAAAAAAAAAAAAAAAKRwPQrXox1AAAAAAAAAAAAAAAAAAAAsQGZmZmZmxlJAAAAAAAAADEAAAAAAAAAAAM3MzMzMzBhAzczMzMzMBEBmZmZmZiZMQGZmZmZmZi9AAAAAAAAAJEAAAAAAAAAUQAAAAAAAAOA/ZmZmZmZmQkAAAAAAAAA8QAAAAAAAABZAcT0K16NwA0BmZmZmZmYCQJqZmZmZmR9AmpmZmZmZREAAAAAAAAAxQAAAAAAAAAAAMzMzMzMzVEAAAAAAAAA8QAAAAAAAABBAmpmZmZmZuT9mZmZmZmYmQM3MzMzMzOw/AAAAAAAA4D8AAAAAAAAAQJqZmZmZmQlAAAAAAAAANEAzMzMzMzMiQJqZmZmZmR9AAAAAAAAAMUAAAAAAAAAIQAAAAAAAADRAAAAAAAAAAAAAAAAAAMBSQAAAAAAAADFAzczMzMzMPUAK16NwPQoLQJqZmZmZmbk/AAAAAACATUAAAAAAAAAWQDMzMzMzMy5AAAAAAAAA8D8zMzMzMzMDQAAAAAAAACpAAAAAAAAAAEBmZmZmZmYOQAAAAAAAABBAAAAAAAAAMUAzMzMzMzPjP1yPwvUoXAVAAAAAAAAACEAAAAAAAAAAAA==",
          "dtype": "f8"
         },
         "yaxis": "y"
        }
       ],
       "layout": {
        "legend": {
         "tracegroupgap": 0
        },
        "template": {
         "data": {
          "bar": [
           {
            "error_x": {
             "color": "#2a3f5f"
            },
            "error_y": {
             "color": "#2a3f5f"
            },
            "marker": {
             "line": {
              "color": "#E5ECF6",
              "width": 0.5
             },
             "pattern": {
              "fillmode": "overlay",
              "size": 10,
              "solidity": 0.2
             }
            },
            "type": "bar"
           }
          ],
          "barpolar": [
           {
            "marker": {
             "line": {
              "color": "#E5ECF6",
              "width": 0.5
             },
             "pattern": {
              "fillmode": "overlay",
              "size": 10,
              "solidity": 0.2
             }
            },
            "type": "barpolar"
           }
          ],
          "carpet": [
           {
            "aaxis": {
             "endlinecolor": "#2a3f5f",
             "gridcolor": "white",
             "linecolor": "white",
             "minorgridcolor": "white",
             "startlinecolor": "#2a3f5f"
            },
            "baxis": {
             "endlinecolor": "#2a3f5f",
             "gridcolor": "white",
             "linecolor": "white",
             "minorgridcolor": "white",
             "startlinecolor": "#2a3f5f"
            },
            "type": "carpet"
           }
          ],
          "choropleth": [
           {
            "colorbar": {
             "outlinewidth": 0,
             "ticks": ""
            },
            "type": "choropleth"
           }
          ],
          "contour": [
           {
            "colorbar": {
             "outlinewidth": 0,
             "ticks": ""
            },
            "colorscale": [
             [
              0,
              "#0d0887"
             ],
             [
              0.1111111111111111,
              "#46039f"
             ],
             [
              0.2222222222222222,
              "#7201a8"
             ],
             [
              0.3333333333333333,
              "#9c179e"
             ],
             [
              0.4444444444444444,
              "#bd3786"
             ],
             [
              0.5555555555555556,
              "#d8576b"
             ],
             [
              0.6666666666666666,
              "#ed7953"
             ],
             [
              0.7777777777777778,
              "#fb9f3a"
             ],
             [
              0.8888888888888888,
              "#fdca26"
             ],
             [
              1,
              "#f0f921"
             ]
            ],
            "type": "contour"
           }
          ],
          "contourcarpet": [
           {
            "colorbar": {
             "outlinewidth": 0,
             "ticks": ""
            },
            "type": "contourcarpet"
           }
          ],
          "heatmap": [
           {
            "colorbar": {
             "outlinewidth": 0,
             "ticks": ""
            },
            "colorscale": [
             [
              0,
              "#0d0887"
             ],
             [
              0.1111111111111111,
              "#46039f"
             ],
             [
              0.2222222222222222,
              "#7201a8"
             ],
             [
              0.3333333333333333,
              "#9c179e"
             ],
             [
              0.4444444444444444,
              "#bd3786"
             ],
             [
              0.5555555555555556,
              "#d8576b"
             ],
             [
              0.6666666666666666,
              "#ed7953"
             ],
             [
              0.7777777777777778,
              "#fb9f3a"
             ],
             [
              0.8888888888888888,
              "#fdca26"
             ],
             [
              1,
              "#f0f921"
             ]
            ],
            "type": "heatmap"
           }
          ],
          "histogram": [
           {
            "marker": {
             "pattern": {
              "fillmode": "overlay",
              "size": 10,
              "solidity": 0.2
             }
            },
            "type": "histogram"
           }
          ],
          "histogram2d": [
           {
            "colorbar": {
             "outlinewidth": 0,
             "ticks": ""
            },
            "colorscale": [
             [
              0,
              "#0d0887"
             ],
             [
              0.1111111111111111,
              "#46039f"
             ],
             [
              0.2222222222222222,
              "#7201a8"
             ],
             [
              0.3333333333333333,
              "#9c179e"
             ],
             [
              0.4444444444444444,
              "#bd3786"
             ],
             [
              0.5555555555555556,
              "#d8576b"
             ],
             [
              0.6666666666666666,
              "#ed7953"
             ],
             [
              0.7777777777777778,
              "#fb9f3a"
             ],
             [
              0.8888888888888888,
              "#fdca26"
             ],
             [
              1,
              "#f0f921"
             ]
            ],
            "type": "histogram2d"
           }
          ],
          "histogram2dcontour": [
           {
            "colorbar": {
             "outlinewidth": 0,
             "ticks": ""
            },
            "colorscale": [
             [
              0,
              "#0d0887"
             ],
             [
              0.1111111111111111,
              "#46039f"
             ],
             [
              0.2222222222222222,
              "#7201a8"
             ],
             [
              0.3333333333333333,
              "#9c179e"
             ],
             [
              0.4444444444444444,
              "#bd3786"
             ],
             [
              0.5555555555555556,
              "#d8576b"
             ],
             [
              0.6666666666666666,
              "#ed7953"
             ],
             [
              0.7777777777777778,
              "#fb9f3a"
             ],
             [
              0.8888888888888888,
              "#fdca26"
             ],
             [
              1,
              "#f0f921"
             ]
            ],
            "type": "histogram2dcontour"
           }
          ],
          "mesh3d": [
           {
            "colorbar": {
             "outlinewidth": 0,
             "ticks": ""
            },
            "type": "mesh3d"
           }
          ],
          "parcoords": [
           {
            "line": {
             "colorbar": {
              "outlinewidth": 0,
              "ticks": ""
             }
            },
            "type": "parcoords"
           }
          ],
          "pie": [
           {
            "automargin": true,
            "type": "pie"
           }
          ],
          "scatter": [
           {
            "fillpattern": {
             "fillmode": "overlay",
             "size": 10,
             "solidity": 0.2
            },
            "type": "scatter"
           }
          ],
          "scatter3d": [
           {
            "line": {
             "colorbar": {
              "outlinewidth": 0,
              "ticks": ""
             }
            },
            "marker": {
             "colorbar": {
              "outlinewidth": 0,
              "ticks": ""
             }
            },
            "type": "scatter3d"
           }
          ],
          "scattercarpet": [
           {
            "marker": {
             "colorbar": {
              "outlinewidth": 0,
              "ticks": ""
             }
            },
            "type": "scattercarpet"
           }
          ],
          "scattergeo": [
           {
            "marker": {
             "colorbar": {
              "outlinewidth": 0,
              "ticks": ""
             }
            },
            "type": "scattergeo"
           }
          ],
          "scattergl": [
           {
            "marker": {
             "colorbar": {
              "outlinewidth": 0,
              "ticks": ""
             }
            },
            "type": "scattergl"
           }
          ],
          "scattermap": [
           {
            "marker": {
             "colorbar": {
              "outlinewidth": 0,
              "ticks": ""
             }
            },
            "type": "scattermap"
           }
          ],
          "scattermapbox": [
           {
            "marker": {
             "colorbar": {
              "outlinewidth": 0,
              "ticks": ""
             }
            },
            "type": "scattermapbox"
           }
          ],
          "scatterpolar": [
           {
            "marker": {
             "colorbar": {
              "outlinewidth": 0,
              "ticks": ""
             }
            },
            "type": "scatterpolar"
           }
          ],
          "scatterpolargl": [
           {
            "marker": {
             "colorbar": {
              "outlinewidth": 0,
              "ticks": ""
             }
            },
            "type": "scatterpolargl"
           }
          ],
          "scatterternary": [
           {
            "marker": {
             "colorbar": {
              "outlinewidth": 0,
              "ticks": ""
             }
            },
            "type": "scatterternary"
           }
          ],
          "surface": [
           {
            "colorbar": {
             "outlinewidth": 0,
             "ticks": ""
            },
            "colorscale": [
             [
              0,
              "#0d0887"
             ],
             [
              0.1111111111111111,
              "#46039f"
             ],
             [
              0.2222222222222222,
              "#7201a8"
             ],
             [
              0.3333333333333333,
              "#9c179e"
             ],
             [
              0.4444444444444444,
              "#bd3786"
             ],
             [
              0.5555555555555556,
              "#d8576b"
             ],
             [
              0.6666666666666666,
              "#ed7953"
             ],
             [
              0.7777777777777778,
              "#fb9f3a"
             ],
             [
              0.8888888888888888,
              "#fdca26"
             ],
             [
              1,
              "#f0f921"
             ]
            ],
            "type": "surface"
           }
          ],
          "table": [
           {
            "cells": {
             "fill": {
              "color": "#EBF0F8"
             },
             "line": {
              "color": "white"
             }
            },
            "header": {
             "fill": {
              "color": "#C8D4E3"
             },
             "line": {
              "color": "white"
             }
            },
            "type": "table"
           }
          ]
         },
         "layout": {
          "annotationdefaults": {
           "arrowcolor": "#2a3f5f",
           "arrowhead": 0,
           "arrowwidth": 1
          },
          "autotypenumbers": "strict",
          "coloraxis": {
           "colorbar": {
            "outlinewidth": 0,
            "ticks": ""
           }
          },
          "colorscale": {
           "diverging": [
            [
             0,
             "#8e0152"
            ],
            [
             0.1,
             "#c51b7d"
            ],
            [
             0.2,
             "#de77ae"
            ],
            [
             0.3,
             "#f1b6da"
            ],
            [
             0.4,
             "#fde0ef"
            ],
            [
             0.5,
             "#f7f7f7"
            ],
            [
             0.6,
             "#e6f5d0"
            ],
            [
             0.7,
             "#b8e186"
            ],
            [
             0.8,
             "#7fbc41"
            ],
            [
             0.9,
             "#4d9221"
            ],
            [
             1,
             "#276419"
            ]
           ],
           "sequential": [
            [
             0,
             "#0d0887"
            ],
            [
             0.1111111111111111,
             "#46039f"
            ],
            [
             0.2222222222222222,
             "#7201a8"
            ],
            [
             0.3333333333333333,
             "#9c179e"
            ],
            [
             0.4444444444444444,
             "#bd3786"
            ],
            [
             0.5555555555555556,
             "#d8576b"
            ],
            [
             0.6666666666666666,
             "#ed7953"
            ],
            [
             0.7777777777777778,
             "#fb9f3a"
            ],
            [
             0.8888888888888888,
             "#fdca26"
            ],
            [
             1,
             "#f0f921"
            ]
           ],
           "sequentialminus": [
            [
             0,
             "#0d0887"
            ],
            [
             0.1111111111111111,
             "#46039f"
            ],
            [
             0.2222222222222222,
             "#7201a8"
            ],
            [
             0.3333333333333333,
             "#9c179e"
            ],
            [
             0.4444444444444444,
             "#bd3786"
            ],
            [
             0.5555555555555556,
             "#d8576b"
            ],
            [
             0.6666666666666666,
             "#ed7953"
            ],
            [
             0.7777777777777778,
             "#fb9f3a"
            ],
            [
             0.8888888888888888,
             "#fdca26"
            ],
            [
             1,
             "#f0f921"
            ]
           ]
          },
          "colorway": [
           "#636efa",
           "#EF553B",
           "#00cc96",
           "#ab63fa",
           "#FFA15A",
           "#19d3f3",
           "#FF6692",
           "#B6E880",
           "#FF97FF",
           "#FECB52"
          ],
          "font": {
           "color": "#2a3f5f"
          },
          "geo": {
           "bgcolor": "white",
           "lakecolor": "white",
           "landcolor": "#E5ECF6",
           "showlakes": true,
           "showland": true,
           "subunitcolor": "white"
          },
          "hoverlabel": {
           "align": "left"
          },
          "hovermode": "closest",
          "mapbox": {
           "style": "light"
          },
          "paper_bgcolor": "white",
          "plot_bgcolor": "#E5ECF6",
          "polar": {
           "angularaxis": {
            "gridcolor": "white",
            "linecolor": "white",
            "ticks": ""
           },
           "bgcolor": "#E5ECF6",
           "radialaxis": {
            "gridcolor": "white",
            "linecolor": "white",
            "ticks": ""
           }
          },
          "scene": {
           "xaxis": {
            "backgroundcolor": "#E5ECF6",
            "gridcolor": "white",
            "gridwidth": 2,
            "linecolor": "white",
            "showbackground": true,
            "ticks": "",
            "zerolinecolor": "white"
           },
           "yaxis": {
            "backgroundcolor": "#E5ECF6",
            "gridcolor": "white",
            "gridwidth": 2,
            "linecolor": "white",
            "showbackground": true,
            "ticks": "",
            "zerolinecolor": "white"
           },
           "zaxis": {
            "backgroundcolor": "#E5ECF6",
            "gridcolor": "white",
            "gridwidth": 2,
            "linecolor": "white",
            "showbackground": true,
            "ticks": "",
            "zerolinecolor": "white"
           }
          },
          "shapedefaults": {
           "line": {
            "color": "#2a3f5f"
           }
          },
          "ternary": {
           "aaxis": {
            "gridcolor": "white",
            "linecolor": "white",
            "ticks": ""
           },
           "baxis": {
            "gridcolor": "white",
            "linecolor": "white",
            "ticks": ""
           },
           "bgcolor": "#E5ECF6",
           "caxis": {
            "gridcolor": "white",
            "linecolor": "white",
            "ticks": ""
           }
          },
          "title": {
           "x": 0.05
          },
          "xaxis": {
           "automargin": true,
           "gridcolor": "white",
           "linecolor": "white",
           "ticks": "",
           "title": {
            "standoff": 15
           },
           "zerolinecolor": "white",
           "zerolinewidth": 2
          },
          "yaxis": {
           "automargin": true,
           "gridcolor": "white",
           "linecolor": "white",
           "ticks": "",
           "title": {
            "standoff": 15
           },
           "zerolinecolor": "white",
           "zerolinewidth": 2
          }
         }
        },
        "title": {
         "text": "Calorías (kcal) vs Azúcar (g) por 100g"
        },
        "xaxis": {
         "anchor": "y",
         "domain": [
          0,
          1
         ],
         "title": {
          "text": "nutriments.energy_kcal_100g"
         }
        },
        "yaxis": {
         "anchor": "x",
         "domain": [
          0,
          1
         ],
         "title": {
          "text": "nutriments.sugars_100g"
         }
        }
       }
      }
     },
     "metadata": {},
     "output_type": "display_data"
    }
   ],
   "source": [
    "cursor = col.find({\n",
    "    \"nutriments.sugars_100g\": {\"$exists\": True},\n",
    "    \"nutriments.energy_kcal_100g\": {\"$exists\": True}\n",
    "}, {\"product_name\":1, \"nutriments.sugars_100g\":1, \"nutriments.energy_kcal_100g\":1}).limit(20000)\n",
    "\n",
    "df = pd.json_normalize(list(cursor))\n",
    "fig = px.scatter(df, x=\"nutriments.energy_kcal_100g\", y=\"nutriments.sugars_100g\", hover_name=\"product_name\", title=\"Calorías (kcal) vs Azúcar (g) por 100g\")\n",
    "fig.show()\n"
   ]
  },
  {
   "cell_type": "markdown",
   "id": "3dbaa2bd",
   "metadata": {},
   "source": [
    "## Promedio de azúcar por categoría (top 20, con mínimo 100 productos)"
   ]
  },
  {
   "cell_type": "code",
   "execution_count": 34,
   "id": "4dd8227e",
   "metadata": {},
   "outputs": [
    {
     "data": {
      "application/vnd.plotly.v1+json": {
       "config": {
        "plotlyServerURL": "https://plot.ly"
       },
       "data": [
        {
         "hovertemplate": "_id=%{x}<br>avg_sugars=%{y}<extra></extra>",
         "legendgroup": "",
         "marker": {
          "color": "#636efa",
          "pattern": {
           "shape": ""
          }
         },
         "name": "",
         "orientation": "v",
         "showlegend": false,
         "textposition": "auto",
         "type": "bar",
         "x": [
          "en:snacks",
          "en:plant-based-foods",
          "en:plant-based-foods-and-beverages",
          "en:beverages-and-beverages-preparations",
          "en:beverages",
          "en:dairies"
         ],
         "xaxis": "x",
         "y": {
          "bdata": "RpT2Bp8eNEAZV+SUccUjQD2w+5eSUCNA8/3UeOkmHEAmJiYmJiYWQOOt7HNITRBA",
          "dtype": "f8"
         },
         "yaxis": "y"
        }
       ],
       "layout": {
        "barmode": "relative",
        "legend": {
         "tracegroupgap": 0
        },
        "template": {
         "data": {
          "bar": [
           {
            "error_x": {
             "color": "#2a3f5f"
            },
            "error_y": {
             "color": "#2a3f5f"
            },
            "marker": {
             "line": {
              "color": "#E5ECF6",
              "width": 0.5
             },
             "pattern": {
              "fillmode": "overlay",
              "size": 10,
              "solidity": 0.2
             }
            },
            "type": "bar"
           }
          ],
          "barpolar": [
           {
            "marker": {
             "line": {
              "color": "#E5ECF6",
              "width": 0.5
             },
             "pattern": {
              "fillmode": "overlay",
              "size": 10,
              "solidity": 0.2
             }
            },
            "type": "barpolar"
           }
          ],
          "carpet": [
           {
            "aaxis": {
             "endlinecolor": "#2a3f5f",
             "gridcolor": "white",
             "linecolor": "white",
             "minorgridcolor": "white",
             "startlinecolor": "#2a3f5f"
            },
            "baxis": {
             "endlinecolor": "#2a3f5f",
             "gridcolor": "white",
             "linecolor": "white",
             "minorgridcolor": "white",
             "startlinecolor": "#2a3f5f"
            },
            "type": "carpet"
           }
          ],
          "choropleth": [
           {
            "colorbar": {
             "outlinewidth": 0,
             "ticks": ""
            },
            "type": "choropleth"
           }
          ],
          "contour": [
           {
            "colorbar": {
             "outlinewidth": 0,
             "ticks": ""
            },
            "colorscale": [
             [
              0,
              "#0d0887"
             ],
             [
              0.1111111111111111,
              "#46039f"
             ],
             [
              0.2222222222222222,
              "#7201a8"
             ],
             [
              0.3333333333333333,
              "#9c179e"
             ],
             [
              0.4444444444444444,
              "#bd3786"
             ],
             [
              0.5555555555555556,
              "#d8576b"
             ],
             [
              0.6666666666666666,
              "#ed7953"
             ],
             [
              0.7777777777777778,
              "#fb9f3a"
             ],
             [
              0.8888888888888888,
              "#fdca26"
             ],
             [
              1,
              "#f0f921"
             ]
            ],
            "type": "contour"
           }
          ],
          "contourcarpet": [
           {
            "colorbar": {
             "outlinewidth": 0,
             "ticks": ""
            },
            "type": "contourcarpet"
           }
          ],
          "heatmap": [
           {
            "colorbar": {
             "outlinewidth": 0,
             "ticks": ""
            },
            "colorscale": [
             [
              0,
              "#0d0887"
             ],
             [
              0.1111111111111111,
              "#46039f"
             ],
             [
              0.2222222222222222,
              "#7201a8"
             ],
             [
              0.3333333333333333,
              "#9c179e"
             ],
             [
              0.4444444444444444,
              "#bd3786"
             ],
             [
              0.5555555555555556,
              "#d8576b"
             ],
             [
              0.6666666666666666,
              "#ed7953"
             ],
             [
              0.7777777777777778,
              "#fb9f3a"
             ],
             [
              0.8888888888888888,
              "#fdca26"
             ],
             [
              1,
              "#f0f921"
             ]
            ],
            "type": "heatmap"
           }
          ],
          "histogram": [
           {
            "marker": {
             "pattern": {
              "fillmode": "overlay",
              "size": 10,
              "solidity": 0.2
             }
            },
            "type": "histogram"
           }
          ],
          "histogram2d": [
           {
            "colorbar": {
             "outlinewidth": 0,
             "ticks": ""
            },
            "colorscale": [
             [
              0,
              "#0d0887"
             ],
             [
              0.1111111111111111,
              "#46039f"
             ],
             [
              0.2222222222222222,
              "#7201a8"
             ],
             [
              0.3333333333333333,
              "#9c179e"
             ],
             [
              0.4444444444444444,
              "#bd3786"
             ],
             [
              0.5555555555555556,
              "#d8576b"
             ],
             [
              0.6666666666666666,
              "#ed7953"
             ],
             [
              0.7777777777777778,
              "#fb9f3a"
             ],
             [
              0.8888888888888888,
              "#fdca26"
             ],
             [
              1,
              "#f0f921"
             ]
            ],
            "type": "histogram2d"
           }
          ],
          "histogram2dcontour": [
           {
            "colorbar": {
             "outlinewidth": 0,
             "ticks": ""
            },
            "colorscale": [
             [
              0,
              "#0d0887"
             ],
             [
              0.1111111111111111,
              "#46039f"
             ],
             [
              0.2222222222222222,
              "#7201a8"
             ],
             [
              0.3333333333333333,
              "#9c179e"
             ],
             [
              0.4444444444444444,
              "#bd3786"
             ],
             [
              0.5555555555555556,
              "#d8576b"
             ],
             [
              0.6666666666666666,
              "#ed7953"
             ],
             [
              0.7777777777777778,
              "#fb9f3a"
             ],
             [
              0.8888888888888888,
              "#fdca26"
             ],
             [
              1,
              "#f0f921"
             ]
            ],
            "type": "histogram2dcontour"
           }
          ],
          "mesh3d": [
           {
            "colorbar": {
             "outlinewidth": 0,
             "ticks": ""
            },
            "type": "mesh3d"
           }
          ],
          "parcoords": [
           {
            "line": {
             "colorbar": {
              "outlinewidth": 0,
              "ticks": ""
             }
            },
            "type": "parcoords"
           }
          ],
          "pie": [
           {
            "automargin": true,
            "type": "pie"
           }
          ],
          "scatter": [
           {
            "fillpattern": {
             "fillmode": "overlay",
             "size": 10,
             "solidity": 0.2
            },
            "type": "scatter"
           }
          ],
          "scatter3d": [
           {
            "line": {
             "colorbar": {
              "outlinewidth": 0,
              "ticks": ""
             }
            },
            "marker": {
             "colorbar": {
              "outlinewidth": 0,
              "ticks": ""
             }
            },
            "type": "scatter3d"
           }
          ],
          "scattercarpet": [
           {
            "marker": {
             "colorbar": {
              "outlinewidth": 0,
              "ticks": ""
             }
            },
            "type": "scattercarpet"
           }
          ],
          "scattergeo": [
           {
            "marker": {
             "colorbar": {
              "outlinewidth": 0,
              "ticks": ""
             }
            },
            "type": "scattergeo"
           }
          ],
          "scattergl": [
           {
            "marker": {
             "colorbar": {
              "outlinewidth": 0,
              "ticks": ""
             }
            },
            "type": "scattergl"
           }
          ],
          "scattermap": [
           {
            "marker": {
             "colorbar": {
              "outlinewidth": 0,
              "ticks": ""
             }
            },
            "type": "scattermap"
           }
          ],
          "scattermapbox": [
           {
            "marker": {
             "colorbar": {
              "outlinewidth": 0,
              "ticks": ""
             }
            },
            "type": "scattermapbox"
           }
          ],
          "scatterpolar": [
           {
            "marker": {
             "colorbar": {
              "outlinewidth": 0,
              "ticks": ""
             }
            },
            "type": "scatterpolar"
           }
          ],
          "scatterpolargl": [
           {
            "marker": {
             "colorbar": {
              "outlinewidth": 0,
              "ticks": ""
             }
            },
            "type": "scatterpolargl"
           }
          ],
          "scatterternary": [
           {
            "marker": {
             "colorbar": {
              "outlinewidth": 0,
              "ticks": ""
             }
            },
            "type": "scatterternary"
           }
          ],
          "surface": [
           {
            "colorbar": {
             "outlinewidth": 0,
             "ticks": ""
            },
            "colorscale": [
             [
              0,
              "#0d0887"
             ],
             [
              0.1111111111111111,
              "#46039f"
             ],
             [
              0.2222222222222222,
              "#7201a8"
             ],
             [
              0.3333333333333333,
              "#9c179e"
             ],
             [
              0.4444444444444444,
              "#bd3786"
             ],
             [
              0.5555555555555556,
              "#d8576b"
             ],
             [
              0.6666666666666666,
              "#ed7953"
             ],
             [
              0.7777777777777778,
              "#fb9f3a"
             ],
             [
              0.8888888888888888,
              "#fdca26"
             ],
             [
              1,
              "#f0f921"
             ]
            ],
            "type": "surface"
           }
          ],
          "table": [
           {
            "cells": {
             "fill": {
              "color": "#EBF0F8"
             },
             "line": {
              "color": "white"
             }
            },
            "header": {
             "fill": {
              "color": "#C8D4E3"
             },
             "line": {
              "color": "white"
             }
            },
            "type": "table"
           }
          ]
         },
         "layout": {
          "annotationdefaults": {
           "arrowcolor": "#2a3f5f",
           "arrowhead": 0,
           "arrowwidth": 1
          },
          "autotypenumbers": "strict",
          "coloraxis": {
           "colorbar": {
            "outlinewidth": 0,
            "ticks": ""
           }
          },
          "colorscale": {
           "diverging": [
            [
             0,
             "#8e0152"
            ],
            [
             0.1,
             "#c51b7d"
            ],
            [
             0.2,
             "#de77ae"
            ],
            [
             0.3,
             "#f1b6da"
            ],
            [
             0.4,
             "#fde0ef"
            ],
            [
             0.5,
             "#f7f7f7"
            ],
            [
             0.6,
             "#e6f5d0"
            ],
            [
             0.7,
             "#b8e186"
            ],
            [
             0.8,
             "#7fbc41"
            ],
            [
             0.9,
             "#4d9221"
            ],
            [
             1,
             "#276419"
            ]
           ],
           "sequential": [
            [
             0,
             "#0d0887"
            ],
            [
             0.1111111111111111,
             "#46039f"
            ],
            [
             0.2222222222222222,
             "#7201a8"
            ],
            [
             0.3333333333333333,
             "#9c179e"
            ],
            [
             0.4444444444444444,
             "#bd3786"
            ],
            [
             0.5555555555555556,
             "#d8576b"
            ],
            [
             0.6666666666666666,
             "#ed7953"
            ],
            [
             0.7777777777777778,
             "#fb9f3a"
            ],
            [
             0.8888888888888888,
             "#fdca26"
            ],
            [
             1,
             "#f0f921"
            ]
           ],
           "sequentialminus": [
            [
             0,
             "#0d0887"
            ],
            [
             0.1111111111111111,
             "#46039f"
            ],
            [
             0.2222222222222222,
             "#7201a8"
            ],
            [
             0.3333333333333333,
             "#9c179e"
            ],
            [
             0.4444444444444444,
             "#bd3786"
            ],
            [
             0.5555555555555556,
             "#d8576b"
            ],
            [
             0.6666666666666666,
             "#ed7953"
            ],
            [
             0.7777777777777778,
             "#fb9f3a"
            ],
            [
             0.8888888888888888,
             "#fdca26"
            ],
            [
             1,
             "#f0f921"
            ]
           ]
          },
          "colorway": [
           "#636efa",
           "#EF553B",
           "#00cc96",
           "#ab63fa",
           "#FFA15A",
           "#19d3f3",
           "#FF6692",
           "#B6E880",
           "#FF97FF",
           "#FECB52"
          ],
          "font": {
           "color": "#2a3f5f"
          },
          "geo": {
           "bgcolor": "white",
           "lakecolor": "white",
           "landcolor": "#E5ECF6",
           "showlakes": true,
           "showland": true,
           "subunitcolor": "white"
          },
          "hoverlabel": {
           "align": "left"
          },
          "hovermode": "closest",
          "mapbox": {
           "style": "light"
          },
          "paper_bgcolor": "white",
          "plot_bgcolor": "#E5ECF6",
          "polar": {
           "angularaxis": {
            "gridcolor": "white",
            "linecolor": "white",
            "ticks": ""
           },
           "bgcolor": "#E5ECF6",
           "radialaxis": {
            "gridcolor": "white",
            "linecolor": "white",
            "ticks": ""
           }
          },
          "scene": {
           "xaxis": {
            "backgroundcolor": "#E5ECF6",
            "gridcolor": "white",
            "gridwidth": 2,
            "linecolor": "white",
            "showbackground": true,
            "ticks": "",
            "zerolinecolor": "white"
           },
           "yaxis": {
            "backgroundcolor": "#E5ECF6",
            "gridcolor": "white",
            "gridwidth": 2,
            "linecolor": "white",
            "showbackground": true,
            "ticks": "",
            "zerolinecolor": "white"
           },
           "zaxis": {
            "backgroundcolor": "#E5ECF6",
            "gridcolor": "white",
            "gridwidth": 2,
            "linecolor": "white",
            "showbackground": true,
            "ticks": "",
            "zerolinecolor": "white"
           }
          },
          "shapedefaults": {
           "line": {
            "color": "#2a3f5f"
           }
          },
          "ternary": {
           "aaxis": {
            "gridcolor": "white",
            "linecolor": "white",
            "ticks": ""
           },
           "baxis": {
            "gridcolor": "white",
            "linecolor": "white",
            "ticks": ""
           },
           "bgcolor": "#E5ECF6",
           "caxis": {
            "gridcolor": "white",
            "linecolor": "white",
            "ticks": ""
           }
          },
          "title": {
           "x": 0.05
          },
          "xaxis": {
           "automargin": true,
           "gridcolor": "white",
           "linecolor": "white",
           "ticks": "",
           "title": {
            "standoff": 15
           },
           "zerolinecolor": "white",
           "zerolinewidth": 2
          },
          "yaxis": {
           "automargin": true,
           "gridcolor": "white",
           "linecolor": "white",
           "ticks": "",
           "title": {
            "standoff": 15
           },
           "zerolinecolor": "white",
           "zerolinewidth": 2
          }
         }
        },
        "title": {
         "text": "Promedio de azúcares por categoría (>=50 productos)"
        },
        "xaxis": {
         "anchor": "y",
         "domain": [
          0,
          1
         ],
         "tickangle": -45,
         "title": {
          "text": "_id"
         }
        },
        "yaxis": {
         "anchor": "x",
         "domain": [
          0,
          1
         ],
         "title": {
          "text": "avg_sugars"
         }
        }
       }
      }
     },
     "metadata": {},
     "output_type": "display_data"
    }
   ],
   "source": [
    "category_count = 50 #Si la ejecución no devuelve un gráfico, disminuir este número\n",
    "pipeline = [\n",
    "    {\"$match\": {\"nutriments.sugars_100g\": {\"$exists\": True, \"$ne\": None}}}, \n",
    "    {\"$unwind\": \"$categories_tags\"},\n",
    "    {\"$group\": {\"_id\": \"$categories_tags\", \"avg_sugars\": {\"$avg\": \"$nutriments.sugars_100g\"}, \"count\": {\"$sum\": 1}}},\n",
    "    {\"$match\": {\"count\": {\"$gte\": category_count}}}, \n",
    "    {\"$sort\": {\"avg_sugars\": -1}},\n",
    "    {\"$limit\": 20}\n",
    "]\n",
    "\n",
    "res = list(col.aggregate(pipeline))\n",
    "df_cat = pd.DataFrame(res)\n",
    "fig = px.bar(df_cat, x=\"_id\", y=\"avg_sugars\", title=f\"Promedio de azúcares por categoría (>={category_count} productos)\")\n",
    "fig.update_layout(xaxis_tickangle=-45)\n",
    "fig.show()\n"
   ]
  }
 ],
 "metadata": {
  "kernelspec": {
   "display_name": "venv",
   "language": "python",
   "name": "python3"
  },
  "language_info": {
   "codemirror_mode": {
    "name": "ipython",
    "version": 3
   },
   "file_extension": ".py",
   "mimetype": "text/x-python",
   "name": "python",
   "nbconvert_exporter": "python",
   "pygments_lexer": "ipython3",
   "version": "3.13.7"
  }
 },
 "nbformat": 4,
 "nbformat_minor": 5
}
