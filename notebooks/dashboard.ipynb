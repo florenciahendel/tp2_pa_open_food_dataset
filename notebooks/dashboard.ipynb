{
 "cells": [
  {
   "cell_type": "markdown",
   "id": "9232852f",
   "metadata": {},
   "source": [
    "## Imports y conexión a la DB"
   ]
  },
  {
   "cell_type": "code",
   "execution_count": null,
   "id": "76c79af4",
   "metadata": {},
   "outputs": [],
   "source": [
    "import os\n",
    "from pymongo import MongoClient\n",
    "import pandas as pd\n",
    "import plotly.express as px\n",
    "\n",
    "MONGO_URI = os.getenv(\"MONGO_URI\", \"mongodb://localhost:27017\")\n",
    "client = MongoClient(MONGO_URI)\n",
    "db = client[\"foodfacts_db\"]\n",
    "col = db[\"products\"]\n"
   ]
  },
  {
   "cell_type": "markdown",
   "id": "bfc19621",
   "metadata": {},
   "source": [
    "## Distribución Nutri-Score"
   ]
  },
  {
   "cell_type": "code",
   "execution_count": null,
   "id": "c4c6da7c",
   "metadata": {},
   "outputs": [],
   "source": [
    "pipeline = [\n",
    "    {\"$match\": {\"nutriscore_grade\": {\"$exists\": True, \"$ne\": None}}},\n",
    "    {\"$group\": {\"_id\": \"$nutriscore_grade\", \"count\": {\"$sum\": 1}}},\n",
    "    {\"$sort\": {\"_id\": 1}}\n",
    "]\n",
    "res = list(col.aggregate(pipeline))\n",
    "df_ns = pd.DataFrame(res)\n",
    "df_ns[\"nutriscore\"] = df_ns[\"_id\"]\n",
    "fig = px.pie(df_ns, names=\"nutriscore\", values=\"count\", title=\"Distribución Nutri-Score\")\n",
    "fig.show()\n"
   ]
  },
  {
   "cell_type": "markdown",
   "id": "d3c7ae6f",
   "metadata": {},
   "source": [
    "## Calorías vs Azúcar (Scatter)"
   ]
  },
  {
   "cell_type": "code",
   "execution_count": null,
   "id": "09f11613",
   "metadata": {},
   "outputs": [],
   "source": [
    "cursor = col.find({\n",
    "    \"nutriments.sugars_100g\": {\"$exists\": True},\n",
    "    \"nutriments.energy_kcal_100g\": {\"$exists\": True}\n",
    "}, {\"product_name\":1, \"nutriments.sugars_100g\":1, \"nutriments.energy_kcal_100g\":1}).limit(20000)\n",
    "\n",
    "df = pd.json_normalize(list(cursor))\n",
    "# columnas resultantes: 'product_name', 'nutriments.sugars_100g', 'nutriments.energy_kcal_100g'\n",
    "fig = px.scatter(df, x=\"nutriments.energy_kcal_100g\", y=\"nutriments.sugars_100g\", hover_name=\"product_name\", title=\"Calorías (kcal) vs Azúcar (g) por 100g\")\n",
    "fig.show()\n"
   ]
  },
  {
   "cell_type": "markdown",
   "id": "3dbaa2bd",
   "metadata": {},
   "source": [
    "## Promedio de azúcar por categoría (top 20, con mínimo 100 productos)"
   ]
  },
  {
   "cell_type": "code",
   "execution_count": null,
   "id": "f0b85072",
   "metadata": {},
   "outputs": [],
   "source": [
    "pipeline = [\n",
    "    {\"$match\": {\"nutriments.sugars_100g\": {\"$exists\": True}}},\n",
    "    {\"$unwind\": \"$categories_tags\"},\n",
    "    {\"$group\": {\"_id\": \"$categories_tags\", \"avg_sugars\": {\"$avg\": \"$nutriments.sugars_100g\"}, \"count\": {\"$sum\": 1}}},\n",
    "    {\"$match\": {\"count\": {\"$gte\": 100}}},\n",
    "    {\"$sort\": {\"avg_sugars\": -1}},\n",
    "    {\"$limit\": 20}\n",
    "]\n",
    "res = list(col.aggregate(pipeline))\n",
    "df_cat = pd.DataFrame(res)\n",
    "fig = px.bar(df_cat, x=\"_id\", y=\"avg_sugars\", title=\"Promedio de azúcares por categoría (>=100 productos)\")\n",
    "fig.update_layout(xaxis_tickangle=-45)\n",
    "fig.show()\n"
   ]
  },
  {
   "cell_type": "code",
   "execution_count": null,
   "id": "44307f7b",
   "metadata": {},
   "outputs": [],
   "source": []
  }
 ],
 "metadata": {
  "language_info": {
   "name": "python"
  }
 },
 "nbformat": 4,
 "nbformat_minor": 5
}
